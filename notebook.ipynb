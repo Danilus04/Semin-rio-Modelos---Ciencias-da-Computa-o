{
 "cells": [
  {
   "cell_type": "code",
   "execution_count": 1,
   "id": "9eb31ab4",
   "metadata": {},
   "outputs": [
    {
     "name": "stderr",
     "output_type": "stream",
     "text": [
      "h:\\Estudos\\Codigos\\CienciaDeDados\\Semin-rio-Modelos---Ciencias-da-Computa-o\\.venv\\Lib\\site-packages\\tqdm\\auto.py:21: TqdmWarning: IProgress not found. Please update jupyter and ipywidgets. See https://ipywidgets.readthedocs.io/en/stable/user_install.html\n",
      "  from .autonotebook import tqdm as notebook_tqdm\n"
     ]
    }
   ],
   "source": [
    "# Importando as bibliotecas necessárias\n",
    "import pandas as pd\n",
    "import os\n",
    "import kagglehub\n",
    "import shutil"
   ]
  },
  {
   "cell_type": "markdown",
   "id": "765300a4",
   "metadata": {},
   "source": [
    "# Dataset\n",
    "Usar dataset real (Kaggle, UCI ML Repository, ou sklearn.datasets) com no mínimo 500\n",
    "observações. Incluir: EDA básico, pré-processamento (se necessário), treinamento e predição\n",
    "do modelo, e comparação com baseline (Regressão Linear/Logística).\n",
    "\n",
    "## Dataset escolhido\n",
    "\n",
    "**Soybean Seeds🌱Classification Dataset**\n",
    "\n",
    "O conjunto de dados inclui imagens de cinco tipos de sementes de soja individuais, totalizando 5513: intacta, manchada, imatura, quebrada e com danos à pele. As imagens individuais da soja (227x227 pixels) foram geradas a partir das imagens originais da soja (3072x2048 pixels) por meio de um algoritmo de processamento de imagem. E esses cinco tipos de imagens de soja foram classificados de acordo com o Padrão de Classificação da Soja (GB1352-2009).\n",
    "\n",
    "As classes são\n",
    "1. Broken\n",
    "2. Immature\n",
    "3. Intact\n",
    "4. Skin Damaged\n",
    "5. Spotted\n"
   ]
  },
  {
   "cell_type": "code",
   "execution_count": 3,
   "id": "1c426608",
   "metadata": {},
   "outputs": [],
   "source": [
    "#Baixar o dataset"
   ]
  }
 ],
 "metadata": {
  "kernelspec": {
   "display_name": ".venv",
   "language": "python",
   "name": "python3"
  },
  "language_info": {
   "codemirror_mode": {
    "name": "ipython",
    "version": 3
   },
   "file_extension": ".py",
   "mimetype": "text/x-python",
   "name": "python",
   "nbconvert_exporter": "python",
   "pygments_lexer": "ipython3",
   "version": "3.12.4"
  }
 },
 "nbformat": 4,
 "nbformat_minor": 5
}
